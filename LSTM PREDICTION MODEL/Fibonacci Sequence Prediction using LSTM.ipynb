{
 "cells": [
  {
   "cell_type": "code",
   "execution_count": 1,
   "id": "ae7d88b3",
   "metadata": {},
   "outputs": [],
   "source": [
    "import numpy as np\n",
    "import tensorflow as tf\n",
    "\n",
    "from matplotlib import pyplot as plt"
   ]
  },
  {
   "cell_type": "code",
   "execution_count": 2,
   "id": "f8658975",
   "metadata": {},
   "outputs": [],
   "source": [
    "def prepare_data(timeseries_data, n_steps):\n",
    "    X, y = [], []\n",
    "    for i in range(len(timeseries_data) - n_steps):\n",
    "        end_of_sample = i + n_steps\n",
    "        # gather i/p and o/p parts of pattern\n",
    "        seq_x = timeseries_data[i:end_of_sample]\n",
    "        seq_y = timeseries_data[end_of_sample]\n",
    "        X.append(seq_x)\n",
    "        y.append(seq_y)\n",
    "    return np.array(X), np.array(y)"
   ]
  },
  {
   "cell_type": "code",
   "execution_count": 3,
   "id": "81ffae38",
   "metadata": {},
   "outputs": [],
   "source": [
    "timeseries_data = [0, 1, 1, 2, 3, 5, 8, 13, 21, 34, 55, 89, 144, 233, 377, 610, 987, 1597, 2584, 4181]\n",
    "n_steps = 3\n",
    "X, y = prepare_data(timeseries_data, n_steps)"
   ]
  },
  {
   "cell_type": "code",
   "execution_count": 4,
   "id": "9a296395",
   "metadata": {},
   "outputs": [
    {
     "name": "stdout",
     "output_type": "stream",
     "text": [
      "Shape of X_train:  (17, 3)\n",
      "Shape of y_train:  (17,)\n"
     ]
    }
   ],
   "source": [
    "print('Shape of X_train: ', X.shape)\n",
    "print('Shape of y_train: ', y.shape)"
   ]
  },
  {
   "cell_type": "code",
   "execution_count": 5,
   "id": "7a283a1e",
   "metadata": {},
   "outputs": [],
   "source": [
    "# reshape from [samples, timesteps] into [samples, timesteps, n_features]\n",
    "n_features = 1\n",
    "X = X.reshape(X.shape[0], X.shape[1], n_features)"
   ]
  },
  {
   "cell_type": "code",
   "execution_count": 6,
   "id": "9f9af2ba",
   "metadata": {},
   "outputs": [
    {
     "data": {
      "text/plain": [
       "(17, 3, 1)"
      ]
     },
     "execution_count": 6,
     "metadata": {},
     "output_type": "execute_result"
    }
   ],
   "source": [
    "X.shape"
   ]
  },
  {
   "cell_type": "markdown",
   "id": "f205fd86",
   "metadata": {},
   "source": [
    "# Model construction and training"
   ]
  },
  {
   "cell_type": "code",
   "execution_count": 7,
   "id": "bc078370",
   "metadata": {},
   "outputs": [],
   "source": [
    "model = tf.keras.models.Sequential()\n",
    "model.add(tf.keras.layers.LSTM(64, activation='relu', return_sequences=True, input_shape=(n_steps, n_features)))\n",
    "model.add(tf.keras.layers.LSTM(16, activation='relu'))\n",
    "model.add(tf.keras.layers.Dense(1))\n",
    "\n",
    "model.compile(optimizer='adam', loss='mse')"
   ]
  },
  {
   "cell_type": "code",
   "execution_count": 8,
   "id": "c05a1bb7",
   "metadata": {},
   "outputs": [],
   "source": [
    "# to use saved model if saved \n",
    "# model = tf.keras.models.load_model('time_series.h5')"
   ]
  },
  {
   "cell_type": "code",
   "execution_count": 9,
   "id": "6afbc3be",
   "metadata": {},
   "outputs": [
    {
     "name": "stdout",
     "output_type": "stream",
     "text": [
      "Model: \"sequential\"\n",
      "_________________________________________________________________\n",
      " Layer (type)                Output Shape              Param #   \n",
      "=================================================================\n",
      " lstm (LSTM)                 (None, 3, 64)             16896     \n",
      "                                                                 \n",
      " lstm_1 (LSTM)               (None, 16)                5184      \n",
      "                                                                 \n",
      " dense (Dense)               (None, 1)                 17        \n",
      "                                                                 \n",
      "=================================================================\n",
      "Total params: 22,097\n",
      "Trainable params: 22,097\n",
      "Non-trainable params: 0\n",
      "_________________________________________________________________\n"
     ]
    }
   ],
   "source": [
    "model.summary()"
   ]
  },
  {
   "cell_type": "code",
   "execution_count": 10,
   "id": "2858a48a",
   "metadata": {},
   "outputs": [
    {
     "name": "stdout",
     "output_type": "stream",
     "text": [
      "Epoch 1/5\n",
      "1/1 [==============================] - 7s 7s/step - loss: 0.0012\n",
      "Epoch 2/5\n",
      "1/1 [==============================] - 0s 24ms/step - loss: 0.0012\n",
      "Epoch 3/5\n",
      "1/1 [==============================] - 0s 22ms/step - loss: 0.0011\n",
      "Epoch 4/5\n",
      "1/1 [==============================] - 0s 22ms/step - loss: 9.7194e-04\n",
      "Epoch 5/5\n",
      "1/1 [==============================] - 0s 25ms/step - loss: 7.9284e-04\n"
     ]
    }
   ],
   "source": [
    "history = model.fit(X, y, epochs=5, verbose=1, shuffle=True)"
   ]
  },
  {
   "cell_type": "markdown",
   "id": "021bf27b",
   "metadata": {},
   "source": [
    "# Save model for future use"
   ]
  },
  {
   "cell_type": "code",
   "execution_count": 11,
   "id": "26322432",
   "metadata": {},
   "outputs": [],
   "source": [
    "model.save('time_series.h5')"
   ]
  },
  {
   "cell_type": "code",
   "execution_count": 12,
   "id": "1bffb0e3",
   "metadata": {},
   "outputs": [
    {
     "data": {
      "image/png": "[encoded data removed]",
      "text/plain": [
       "<Figure size 432x288 with 1 Axes>"
      ]
     },
     "metadata": {
      "needs_background": "light"
     },
     "output_type": "display_data"
    }
   ],
   "source": [
    "plt.plot(history.history['loss'])\n",
    "plt.title('model loss')\n",
    "plt.ylabel('loss')\n",
    "plt.xlabel('epoch')\n",
    "plt.legend(['train', 'val'], loc='upper left')\n",
    "plt.show()"
   ]
  },
  {
   "cell_type": "markdown",
   "id": "ad2ced0f",
   "metadata": {},
   "source": [
    "# Prediction of next 5 series"
   ]
  },
  {
   "cell_type": "code",
   "execution_count": 13,
   "id": "4ca5d87a",
   "metadata": {},
   "outputs": [
    {
     "name": "stdout",
     "output_type": "stream",
     "text": [
      "[1597 2584 4181] [1597, 2584, 4181]\n",
      "Reshaped input fed: \n",
      " (1, 3, 1)\n"
     ]
    }
   ],
   "source": [
    "x_input = np.array(timeseries_data[-3:])\n",
    "temp_series = list(x_input)\n",
    "next_series = list()\n",
    "print(x_input, temp_series)\n",
    "x_input = x_input.reshape(1, 3, 1)\n",
    "print('Reshaped input fed: \\n', x_input.shape)"
   ]
  },
  {
   "cell_type": "code",
   "execution_count": 14,
   "id": "1816289b",
   "metadata": {},
   "outputs": [
    {
     "name": "stdout",
     "output_type": "stream",
     "text": [
      "1/1 [==============================] - 1s 1s/step\n"
     ]
    },
    {
     "data": {
      "text/plain": [
       "(1, 1)"
      ]
     },
     "execution_count": 14,
     "metadata": {},
     "output_type": "execute_result"
    }
   ],
   "source": [
    "model.predict(x_input).shape"
   ]
  },
  {
   "cell_type": "code",
   "execution_count": 15,
   "id": "f277f94a",
   "metadata": {},
   "outputs": [
    {
     "name": "stdout",
     "output_type": "stream",
     "text": [
      "input given for prediction: \n",
      " [[[1597], [2584], [4181]]]\n",
      "1/1 [==============================] - 0s 266ms/step\n",
      "0 index element is [[6763.3755]]\n",
      "input given for prediction: \n",
      " [[[2584.0], [4181.0], [6763.37548828125]]]\n",
      "1/1 [==============================] - 2s 2s/step\n",
      "1 index element is [[10940.618]]\n",
      "input given for prediction: \n",
      " [[[4181.0], [6763.37548828125], [10940.6181640625]]]\n",
      "1/1 [==============================] - 0s 338ms/step\n",
      "2 index element is [[17697.443]]\n",
      "input given for prediction: \n",
      " [[[6763.37548828125], [10940.6181640625], [17697.443359375]]]\n",
      "1/1 [==============================] - 0s 215ms/step\n",
      "3 index element is [[28625.742]]\n",
      "input given for prediction: \n",
      " [[[10940.6181640625], [17697.443359375], [28625.7421875]]]\n",
      "1/1 [==============================] - 0s 203ms/step\n",
      "4 index element is [[46302.39]]\n"
     ]
    }
   ],
   "source": [
    "i = 0\n",
    "while i<5:\n",
    "    print('input given for prediction: \\n', x_input.tolist())\n",
    "    y_hat = model.predict(x_input.tolist())\n",
    "    next_series.append(y_hat[0][0])\n",
    "    temp_series.append(y_hat[0][0])\n",
    "    try:\n",
    "        x_input = np.array(temp_series[-3:])\n",
    "        x_input = x_input.reshape(1, 3, 1)\n",
    "    except Exception as E:\n",
    "        print(E)\n",
    "    np.append(next_series, y_hat)\n",
    "    \n",
    "    print(f'{i} index element is {y_hat}')\n",
    "    i+=1"
   ]
  },
  {
   "cell_type": "code",
   "execution_count": 16,
   "id": "87e17285",
   "metadata": {},
   "outputs": [],
   "source": [
    "next_series = [round(x) for x in next_series]"
   ]
  },
  {
   "cell_type": "code",
   "execution_count": 17,
   "id": "09bc7abe",
   "metadata": {},
   "outputs": [],
   "source": [
    "next_series = np.array(next_series)"
   ]
  },
  {
   "cell_type": "code",
   "execution_count": 18,
   "id": "9a712fb1",
   "metadata": {},
   "outputs": [
    {
     "name": "stdout",
     "output_type": "stream",
     "text": [
      "[ 2  5 14 31 66]\n"
     ]
    }
   ],
   "source": [
    "true_seris = np.array([6765, 10946, 17711, 28657, 46368])\n",
    "net_differenc = true_seris - next_series\n",
    "print(net_differenc)"
   ]
  },
  {
   "cell_type": "markdown",
   "id": "e4688159",
   "metadata": {},
   "source": [
    "# Plotting True Data vs Predicted data"
   ]
  },
  {
   "cell_type": "code",
   "execution_count": 19,
   "id": "3d5d5681",
   "metadata": {},
   "outputs": [],
   "source": [
    "index = np.arange(1, len(timeseries_data)+1)\n",
    "p_index =np.arange(len(timeseries_data), len(timeseries_data)+5)"
   ]
  },
  {
   "cell_type": "code",
   "execution_count": 20,
   "id": "d4d363ed",
   "metadata": {},
   "outputs": [
    {
     "data": {
      "text/plain": [
       "<matplotlib.legend.Legend at 0x341bbb2c70>"
      ]
     },
     "execution_count": 20,
     "metadata": {},
     "output_type": "execute_result"
    },
    {
     "data": {
      "image/png": "[encoded data removed]",
      "text/plain": [
       "<Figure size 432x288 with 1 Axes>"
      ]
     },
     "metadata": {
      "needs_background": "light"
     },
     "output_type": "display_data"
    }
   ],
   "source": [
    "# plt.plot(index, timeseries_data)\n",
    "#ploting true value vs predicted series\n",
    "plt.plot(p_index, next_series, 'o--', label='Predicted Series')\n",
    "plt.plot(p_index, true_seris, label='True Series')\n",
    "plt.xlabel(\"index\")\n",
    "plt.ylabel(\"value\")\n",
    "plt.legend(loc='lower right')\n",
    "# plt.show()"
   ]
  },
  {
   "cell_type": "markdown",
   "id": "96467a3e",
   "metadata": {},
   "source": [
    "# "
   ]
  }
 ],
 "metadata": {
  "kernelspec": {
   "display_name": "Python 3 (ipykernel)",
   "language": "python",
   "name": "python3"
  },
  "language_info": {
   "codemirror_mode": {
    "name": "ipython",
    "version": 3
   },
   "file_extension": ".py",
   "mimetype": "text/x-python",
   "name": "python",
   "nbconvert_exporter": "python",
   "pygments_lexer": "ipython3",
   "version": "3.9.10"
  }
 },
 "nbformat": 4,
 "nbformat_minor": 5
}
